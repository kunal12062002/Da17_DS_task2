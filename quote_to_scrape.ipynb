{
 "cells": [
  {
   "cell_type": "markdown",
   "id": "cee5ce9b",
   "metadata": {},
   "source": [
    "# All quotes with author\n"
   ]
  },
  {
   "cell_type": "markdown",
   "id": "aa209709",
   "metadata": {},
   "source": [
    "* albert einstine\n",
    "    - document.querySelectorAll('div')[4].querySelectorAll('div.quote')[0].querySelectorAll('span')[1].querySelector('small.author').textContent\n",
    "\n",
    "* quote\n",
    "\n",
    "    - document.querySelectorAll('div')[4].querySelectorAll('div.quote')[0].querySelector('span.text').textContent"
   ]
  },
  {
   "cell_type": "markdown",
   "id": "8e186f9b",
   "metadata": {},
   "source": [
    "* J k rowling \n",
    "    - document.querySelectorAll('div')[4].querySelectorAll('div.quote')[1].querySelectorAll('span')[1].querySelector('small.author').textContent\n",
    "\n",
    "* Quote \n",
    "    - document.querySelectorAll('div')[4].querySelectorAll('div.quote')[1].querySelector('span.text').textContent \n",
    "\n"
   ]
  },
  {
   "cell_type": "markdown",
   "id": "3341fe32",
   "metadata": {},
   "source": [
    "* Albert Einstine\n",
    "    - document.querySelectorAll('div')[4].querySelectorAll('div.quote')[2].querySelectorAll('span')[1].querySelector('small.author').textContent\n",
    "\n",
    "* quote\n",
    "    - document.querySelectorAll('div')[4].querySelectorAll('div.quote')[2].querySelector('span.text').textContent\n"
   ]
  },
  {
   "cell_type": "markdown",
   "id": "98c3c6ca",
   "metadata": {},
   "source": [
    "* Jane Austen \n",
    "    - document.querySelectorAll('div')[4].querySelectorAll('div.quote')[3].querySelectorAll('span')[1].querySelector('small.author').textContent\n",
    "* quote\n",
    "    - document.querySelectorAll('div')[4].querySelectorAll('div.quote')[3].querySelector('span.text').textContent"
   ]
  },
  {
   "cell_type": "markdown",
   "id": "6b95b0de",
   "metadata": {},
   "source": [
    "* Marliyn manrow\n",
    "    - document.querySelectorAll('div')[4].querySelectorAll('div.quote')[4].querySelectorAll('span')[1].querySelector('small.author').textContent \n",
    "* quote\n",
    "    - document.querySelectorAll('div')[4].querySelectorAll('div.quote')[4].querySelector('span.text').textContent"
   ]
  },
  {
   "cell_type": "markdown",
   "id": "48cbb4d3",
   "metadata": {},
   "source": [
    "* Albert Einstine\n",
    "    -  document.querySelectorAll('div')[4].querySelectorAll('div.quote')[5].querySelectorAll('span')[1].querySelector('small.author').textContent\n",
    "* quote\n",
    "    - document.querySelectorAll('div')[4].querySelectorAll('div.quote')[5].querySelector('span.text').textContent"
   ]
  },
  {
   "cell_type": "markdown",
   "id": "1afb35c0",
   "metadata": {},
   "source": [
    "* Andre Gide\n",
    "    -  document.querySelectorAll('div')[4].querySelectorAll('div.quote')[6].querySelectorAll('span')[1].querySelector('small.author').textContent\n",
    "* quote\n",
    "    - document.querySelectorAll('div')[4].querySelectorAll('div.quote')[6].querySelector('span.text').textContent"
   ]
  },
  {
   "cell_type": "markdown",
   "metadata": {},
   "source": [
    "* Thomas A. Edison\n",
    "    -  document.querySelectorAll('div')[4].querySelectorAll('div.quote')[7].querySelectorAll('span')[1].querySelector('small.author').textContent\n",
    "* quote \n",
    "    - document.querySelectorAll('div')[4].querySelectorAll('div.quote')[7].querySelector('span.text').textContent"
   ]
  },
  {
   "cell_type": "markdown",
   "id": "7eabaa83",
   "metadata": {},
   "source": [
    "* Elanoor rosvelt\n",
    "    -  document.querySelectorAll('div')[4].querySelectorAll('div.quote')[8].querySelectorAll('span')[1].querySelector('small.author').textContent\n",
    "* quote\n",
    "    - document.querySelectorAll('div')[4].querySelectorAll('div.quote')[8].querySelector('span.text').textContent"
   ]
  },
  {
   "cell_type": "markdown",
   "id": "a12dad6a",
   "metadata": {},
   "source": [
    "* Steve Martin\n",
    "    -  document.querySelectorAll('div')[4].querySelectorAll('div.quote')[9].querySelectorAll('span')[1].querySelector('small.author').textContent\n",
    "* quote\n",
    "    - document.querySelectorAll('div')[4].querySelectorAll('div.quote')[9].querySelector('span.text').textContent"
   ]
  },
  {
   "cell_type": "markdown",
   "id": "a98aefd2",
   "metadata": {},
   "source": [
    "# Top Ten Tags \n",
    "\n",
    "    "
   ]
  },
  {
   "cell_type": "markdown",
   "metadata": {},
   "source": [
    "* Love \n",
    "\n",
    "    - document.querySelectorAll('div')[26].querySelectorAll('span')[0].querySelector('a').textContent\n"
   ]
  },
  {
   "cell_type": "markdown",
   "id": "c86e8e4a",
   "metadata": {},
   "source": [
    "* inspirational\n",
    "\n",
    "    - document.querySelectorAll('div')[26].querySelectorAll('span')[1].querySelector('a').textContent"
   ]
  },
  {
   "cell_type": "markdown",
   "id": "046493b4",
   "metadata": {},
   "source": [
    "* Life \n",
    "\n",
    "     - document.querySelectorAll('div')[26].querySelectorAll('span')[2].querySelector('a').textContent"
   ]
  },
  {
   "cell_type": "markdown",
   "id": "64f83848",
   "metadata": {},
   "source": [
    "* Humor\n",
    "\n",
    "    - document.querySelectorAll('div')[26].querySelectorAll('span')[3].querySelector('a').textContent"
   ]
  },
  {
   "cell_type": "markdown",
   "metadata": {},
   "source": [
    "* Books\n",
    "\n",
    "    - document.querySelectorAll('div')[26].querySelectorAll('span')[4].querySelector('a').textContent"
   ]
  },
  {
   "cell_type": "markdown",
   "id": "e0114036",
   "metadata": {},
   "source": [
    "* reading \n",
    "\n",
    "    - document.querySelectorAll('div')[26].querySelectorAll('span')[5].querySelector('a').textContent"
   ]
  },
  {
   "cell_type": "markdown",
   "id": "6ede3ad1",
   "metadata": {},
   "source": [
    "* friendship\n",
    "\n",
    "    - document.querySelectorAll('div')[26].querySelectorAll('span')[6].querySelector('a').textContent"
   ]
  },
  {
   "cell_type": "markdown",
   "id": "2ecbeb1b",
   "metadata": {},
   "source": [
    "* friends\n",
    "\n",
    "    - document.querySelectorAll('div')[26].querySelectorAll('span')[7].querySelector('a').textContent"
   ]
  },
  {
   "cell_type": "markdown",
   "id": "18920b39",
   "metadata": {},
   "source": [
    "* truth\n",
    "\n",
    "    - document.querySelectorAll('div')[26].querySelectorAll('span')[8].querySelector('a').textContent"
   ]
  },
  {
   "cell_type": "markdown",
   "id": "0e430b81",
   "metadata": {},
   "source": [
    "* smile\n",
    "\n",
    "    - document.querySelectorAll('div')[26].querySelectorAll('span')[9].querySelector('a').textContent"
   ]
  }
 ],
 "metadata": {
  "kernelspec": {
   "display_name": "Python 3",
   "language": "python",
   "name": "python3"
  },
  "language_info": {
   "codemirror_mode": {
    "name": "ipython",
    "version": 3
   },
   "file_extension": ".py",
   "mimetype": "text/x-python",
   "name": "python",
   "nbconvert_exporter": "python",
   "pygments_lexer": "ipython3",
   "version": "3.9.12"
  }
 },
 "nbformat": 4,
 "nbformat_minor": 5
}
